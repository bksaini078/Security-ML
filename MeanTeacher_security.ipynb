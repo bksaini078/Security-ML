{
  "nbformat": 4,
  "nbformat_minor": 0,
  "metadata": {
    "colab": {
      "name": "MeanTeacher_security.ipynb",
      "provenance": [],
      "collapsed_sections": [
        "s7MmQaVCT15L",
        "8PaK9fUldVU-"
      ],
      "mount_file_id": "1wYgT4dQk8IsCf-msDn5rT2wHmvBB5LGH",
      "authorship_tag": "ABX9TyOaneHea+GR9AR8OKZsgcr+",
      "include_colab_link": true
    },
    "kernelspec": {
      "display_name": "Python 3",
      "name": "python3"
    },
    "language_info": {
      "name": "python"
    }
  },
  "cells": [
    {
      "cell_type": "markdown",
      "metadata": {
        "id": "view-in-github",
        "colab_type": "text"
      },
      "source": [
        "<a href=\"https://colab.research.google.com/github/bksaini078/Security-ML/blob/main/MeanTeacher_security.ipynb\" target=\"_parent\"><img src=\"https://colab.research.google.com/assets/colab-badge.svg\" alt=\"Open In Colab\"/></a>"
      ]
    },
    {
      "cell_type": "code",
      "metadata": {
        "id": "-hrLytmdUAqb"
      },
      "source": [
        ""
      ],
      "execution_count": null,
      "outputs": []
    },
    {
      "cell_type": "code",
      "metadata": {
        "id": "3Z-rcpHscnbP"
      },
      "source": [
        "import tensorflow.keras as keras\n",
        "import numpy as np\n",
        "import pandas as pd\n",
        "from sklearn import preprocessing\n",
        "from sklearn.model_selection import train_test_split\n",
        "import matplotlib.pyplot as plt\n",
        "import tensorflow as tf\n",
        "\n",
        "from sklearn.metrics import precision_recall_fscore_support\n",
        "from sklearn.metrics import confusion_matrix\n",
        "from sklearn.metrics import precision_score\n",
        "from sklearn.metrics import recall_score\n",
        "from sklearn.metrics import f1_score\n",
        "from sklearn.metrics import accuracy_score\n",
        "from sklearn.metrics import roc_curve\n",
        "from sklearn.metrics import classification_report"
      ],
      "execution_count": null,
      "outputs": []
    },
    {
      "cell_type": "markdown",
      "metadata": {
        "id": "s7MmQaVCT15L"
      },
      "source": [
        "# Plots"
      ]
    },
    {
      "cell_type": "code",
      "metadata": {
        "id": "X9Dy1MXIT-Sm"
      },
      "source": [
        "from matplotlib import pyplot\n",
        "def plot_roc(fpr,tpr,label):\n",
        "    #  plot the roc curve for the model\n",
        "    pyplot.plot(fpr, tpr, linestyle='--', label=label)\n",
        "\n",
        "    pyplot.xlabel('False Positive Rate')\n",
        "    pyplot.ylabel('True Positive Rate')\n",
        "    # show the legend\n",
        "    pyplot.legend()\n",
        "    # show the plot \n",
        "    pyplot.show()\n",
        "    return\n",
        "def scatter_plot(logits, y_t, title):\n",
        "    marker_size=20\n",
        "    figure = plt.figure(figsize=(20, 6))\n",
        "    plt.scatter(logits,logits, marker_size, c=y_t)\n",
        "    plt.title(title)\n",
        "    plt.xlabel(\"Predicted Probability\")\n",
        "    plt.ylabel(\"Predicted Probability\")\n",
        "    cbar= plt.colorbar()\n",
        "    cbar.set_label(\"Probability\", labelpad=+1)\n",
        "    plt.show()\n",
        "    return"
      ],
      "execution_count": null,
      "outputs": []
    },
    {
      "cell_type": "markdown",
      "metadata": {
        "id": "aZ7p2Ttr-wr9"
      },
      "source": [
        "#Reading data"
      ]
    },
    {
      "cell_type": "code",
      "metadata": {
        "id": "-AAE4HUe-u7w"
      },
      "source": [
        "'''0-Normal, 1 is attack'''\n",
        "\n",
        "path_train = \"/content/drive/MyDrive/Security/UNSW_NB15/UNSW_NB15_training-set.csv\"\n",
        "path_test = \"/content/drive/MyDrive/Security/UNSW_NB15/UNSW_NB15_training-set.csv\"\n",
        "df_train=pd.read_csv(path_train, header=0,dtype='unicode')\n",
        "df_test=pd.read_csv(path_test, header=0,dtype='unicode')\n",
        "x_train=df_train.sample(n=20000,random_state=42)\n",
        "y_train=x_train['label'].astype(int)\n",
        "x_train=x_train.drop(columns=['id','label'])\n",
        "\n",
        "x_test=df_test.sample(n=20000,random_state=42)\n",
        "y_test=x_test['label'].astype(int)\n",
        "x_test=x_test.drop(columns=['id','label'])\n",
        "\n",
        "\n"
      ],
      "execution_count": null,
      "outputs": []
    },
    {
      "cell_type": "code",
      "metadata": {
        "id": "B5mMxLfFfTk0"
      },
      "source": [
        "y_train=np.reshape(np.array(y_train),(len(y_train),1))\n",
        "y_test=np.reshape(np.array(y_test),(len(y_test),1))\n",
        "y_train = tf.keras.utils.to_categorical(y_train,2)\n",
        "y_test = tf.keras.utils.to_categorical(y_test,2)\n"
      ],
      "execution_count": null,
      "outputs": []
    },
    {
      "cell_type": "code",
      "metadata": {
        "colab": {
          "base_uri": "https://localhost:8080/"
        },
        "id": "3aoTDpumAh5u",
        "outputId": "4291ab80-e5ba-4371-c33a-411f74755c2a"
      },
      "source": [
        "#min max normalization \n",
        "from sklearn.preprocessing import MinMaxScaler\n",
        "minmax_norm= MinMaxScaler()\n",
        "minmax_norm.fit(x_train)"
      ],
      "execution_count": null,
      "outputs": [
        {
          "output_type": "execute_result",
          "data": {
            "text/plain": [
              "MinMaxScaler(copy=True, feature_range=(0, 1))"
            ]
          },
          "metadata": {
            "tags": []
          },
          "execution_count": 4
        }
      ]
    },
    {
      "cell_type": "code",
      "metadata": {
        "colab": {
          "base_uri": "https://localhost:8080/"
        },
        "id": "15xTz1vHA34O",
        "outputId": "d8f00be4-4081-4f77-c31e-167272520f51"
      },
      "source": [
        "x_train_norm= minmax_norm.transform(x_train)\n",
        "x_train.shape"
      ],
      "execution_count": null,
      "outputs": [
        {
          "output_type": "execute_result",
          "data": {
            "text/plain": [
              "(20000, 42)"
            ]
          },
          "metadata": {
            "tags": []
          },
          "execution_count": 5
        }
      ]
    },
    {
      "cell_type": "code",
      "metadata": {
        "colab": {
          "base_uri": "https://localhost:8080/"
        },
        "id": "9ZRYzVZCCBr7",
        "outputId": "d822e28c-ea08-41c9-a095-9262c300eb41"
      },
      "source": [
        "x_test_norm=minmax_norm.transform(x_test)\n",
        "x_test_norm.shape"
      ],
      "execution_count": null,
      "outputs": [
        {
          "output_type": "execute_result",
          "data": {
            "text/plain": [
              "(20000, 42)"
            ]
          },
          "metadata": {
            "tags": []
          },
          "execution_count": 6
        }
      ]
    },
    {
      "cell_type": "code",
      "metadata": {
        "colab": {
          "base_uri": "https://localhost:8080/",
          "height": 265
        },
        "id": "Rsy2mADsAcVS",
        "outputId": "47feffc0-8b83-452a-9e16-431305e8d841"
      },
      "source": [
        "'''0-Normal, 1 is attack'''\n",
        "plt.hist(y_train)\n",
        "plt.show()"
      ],
      "execution_count": null,
      "outputs": [
        {
          "output_type": "display_data",
          "data": {
            "image/png": "[encoded data removed]",
            "text/plain": [
              "<Figure size 432x288 with 1 Axes>"
            ]
          },
          "metadata": {
            "tags": [],
            "needs_background": "light"
          }
        }
      ]
    },
    {
      "cell_type": "markdown",
      "metadata": {
        "id": "MROKp9Ur9thi"
      },
      "source": [
        "# Cost Function"
      ]
    },
    {
      "cell_type": "code",
      "metadata": {
        "id": "tAS3iqdq9wZL"
      },
      "source": [
        "# declaring loss function\n",
        "import tensorflow as tf\n",
        "\n",
        "# ref:https://github.com/CuriousAI/mean-teacher/tree/master/tensorflow/mean_teacher  updated according to our need .\n",
        "# Bhupender method names should be always lowerized, see: https://www.python.org/dev/peps/\n",
        "def compute_clf_loss(logits, labels):\n",
        "    \"\"\" Commputing classification cost , after removing labels -1 of unlabelled data and then calculating\n",
        "    the binary cross entropy .\n",
        "    \"\"\"\n",
        "\n",
        "    # Change -1s to zeros to make cross-entropy computable\n",
        "    # applicable = tf.not_equal(labels, -1)\n",
        "\n",
        "    # labels = tf.where(applicable, labels, tf.zeros_like(labels))\n",
        "    # logits = tf.where(applicable, logits, tf.zeros_like(logits))\n",
        "    loss = tf.keras.losses.categorical_crossentropy(labels, logits,from_logits=True)\n",
        "\n",
        "    # mask Nan values, makes them zero\n",
        "    # loss = tf.where(tf.math.is_nan(loss), tf.zeros_like(loss), loss)\n",
        "\n",
        "    # compute the loss only from labeled samples\n",
        "    # mask = tf.not_equal(loss, 0.)\n",
        "    # masked = tf.boolean_mask(loss, mask)\n",
        "    loss = tf.reduce_mean(loss)\n",
        "\n",
        "    return loss\n",
        "\n",
        "def compute_consistency_loss(student_output, teacher_output):\n",
        "    return (tf.losses.mean_squared_error(student_output, teacher_output ))\n",
        "def Overall_Cost( x_train, y_train,student, teacher,ratio):\n",
        "    '''Calculating overall cost using classification cost and consistency cost'''\n",
        "    # including noise data in train data\n",
        "\n",
        "\n",
        "    # student prediction\n",
        "    logit_student = student(x_train)\n",
        "\n",
        "    # including different noise data in train data\n",
        "    # x_train_n1, _ = augment_data(x_train, y_train, x_unlabel_tar, args)\n",
        "\n",
        "    # calculating classification cost\n",
        "    classification_cost = compute_clf_loss(logit_student, y_train)\n",
        "\n",
        "    # teacher prediction\n",
        "    logit_teacher = teacher(x_train)\n",
        "\n",
        "    # calculating consistency cost\n",
        "    consistency_cost = compute_consistency_loss(logit_student, logit_teacher)\n",
        "\n",
        "    return (ratio * classification_cost) + ((1 - ratio) * consistency_cost)\n",
        "\n",
        "\n",
        "# function for consistency cost\n",
        "def EMA(student_model, teacher_model, alpha):\n",
        "    # alpha = min(1 - 1 / (global_step + 1), alpha)\n",
        "    # taking weights\n",
        "    student_weights = student_model.get_weights()\n",
        "    teacher_weights = teacher_model.get_weights()\n",
        "\n",
        "    # length must be equal otherwise it will not work\n",
        "    assert len(student_weights) == len(\n",
        "        teacher_weights), 'length of student and teachers weights are not equal Please check. \\n Student: {}, \\n Teacher:{}'.format(\n",
        "        len(student_weights), len(teacher_weights))\n",
        "    new_layers = []\n",
        "    for i, layers in enumerate(student_weights):\n",
        "        new_layer = alpha * (teacher_weights[i]) + (1 - alpha) * layers\n",
        "        new_layers.append(new_layer)\n",
        "    teacher_model.set_weights(new_layers)\n",
        "    return teacher_model\n"
      ],
      "execution_count": null,
      "outputs": []
    },
    {
      "cell_type": "markdown",
      "metadata": {
        "id": "8PaK9fUldVU-"
      },
      "source": [
        "# supervised model"
      ]
    },
    {
      "cell_type": "code",
      "metadata": {
        "id": "2j0l9wSCCM_5"
      },
      "source": [
        "#creating supervised model\n",
        "from tensorflow.keras.activations import sigmoid\n",
        "from tensorflow.keras.models import Model\n",
        "from tensorflow.keras.layers import Input, LSTM, Bidirectional, Dense, Dropout, GaussianNoise\n",
        "from tensorflow.keras.losses import BinaryCrossentropy\n",
        "from tensorflow.keras.optimizers import SGD, Adam\n",
        "from tensorflow.keras.models import Sequential\n",
        "def supermodel():\n",
        "    input= Input(shape=(42,))\n",
        "    x= Dense(40)(input)\n",
        "    x=Dense(30,activation='relu')(x)\n",
        "    x=GaussianNoise(0.2)(x)\n",
        "    x=Dense(16)(x)\n",
        "    x=Dense(1,activation='sigmoid')(x)\n",
        "    model= Model(input,x)\n",
        "    model.compile(tf.keras.optimizers.Adam(learning_rate= 0.00001 ), loss= 'binary_crossentropy', metrics=['accuracy'])\n",
        "    return model\n",
        "def seqmodel():\n",
        "    model= Sequential()\n",
        "    model.add(Dense(42))\n",
        "    model.add(GaussianNoise(0.2))\n",
        "    model.add(Dense(30, activation='relu'))\n",
        "    model.add(Dropout(0.3))\n",
        "    model.add(Dense(16))\n",
        "    model.add(Dense(2,activation='softmax'))\n",
        "    model.compile(optimizer=Adam(learning_rate=0.0001),loss='binary_crossentropy',metrics=['accuracy'])\n",
        "  \n",
        "    return model"
      ],
      "execution_count": null,
      "outputs": []
    },
    {
      "cell_type": "code",
      "metadata": {
        "id": "WWs6Jm-9DsV8"
      },
      "source": [
        "model=seqmodel()\n",
        "# model.summary()"
      ],
      "execution_count": null,
      "outputs": []
    },
    {
      "cell_type": "code",
      "metadata": {
        "colab": {
          "base_uri": "https://localhost:8080/",
          "height": 1000
        },
        "id": "qsGd1vrEHpKi",
        "outputId": "0a48326d-27d6-45ff-f14e-77e3844802d1"
      },
      "source": [
        "history=model.fit(x_train_norm,y_train, batch_size=256,epochs=200,validation_split=0.2)\n",
        "plt.plot(history.history['accuracy'])\n",
        "plt.plot(history.history['val_accuracy'])\n",
        "plt.title('model accuracy')\n",
        "plt.ylabel('accuracy')\n",
        "plt.xlabel('epoch')\n",
        "plt.legend(['train', 'val'], loc='upper left')\n",
        "plt.show()  \n",
        "\n",
        "plt.plot(history.history['loss'])\n",
        "plt.plot(history.history['val_loss'])\n",
        "plt.title('model loss')\n",
        "plt.ylabel('loss')\n",
        "plt.xlabel('epoch')\n",
        "plt.legend(['train', 'val'], loc='upper left')\n",
        "plt.show()\n"
      ],
      "execution_count": null,
      "outputs": [
        {
          "output_type": "stream",
          "text": [
            "Epoch 1/200\n",
            "63/63 [==============================] - 1s 11ms/step - loss: 0.7296 - accuracy: 0.4944 - val_loss: 0.6752 - val_accuracy: 0.5570\n",
            "Epoch 2/200\n",
            "63/63 [==============================] - 0s 4ms/step - loss: 0.6881 - accuracy: 0.5849 - val_loss: 0.6413 - val_accuracy: 0.7697\n",
            "Epoch 3/200\n",
            "63/63 [==============================] - 0s 4ms/step - loss: 0.6523 - accuracy: 0.6896 - val_loss: 0.6041 - val_accuracy: 0.7850\n",
            "Epoch 4/200\n",
            "63/63 [==============================] - 0s 4ms/step - loss: 0.6154 - accuracy: 0.7378 - val_loss: 0.5630 - val_accuracy: 0.7865\n",
            "Epoch 5/200\n",
            "63/63 [==============================] - 0s 3ms/step - loss: 0.5781 - accuracy: 0.7455 - val_loss: 0.5214 - val_accuracy: 0.7812\n",
            "Epoch 6/200\n",
            "63/63 [==============================] - 0s 4ms/step - loss: 0.5384 - accuracy: 0.7591 - val_loss: 0.4838 - val_accuracy: 0.7868\n",
            "Epoch 7/200\n",
            "63/63 [==============================] - 0s 4ms/step - loss: 0.5051 - accuracy: 0.7639 - val_loss: 0.4520 - val_accuracy: 0.7950\n",
            "Epoch 8/200\n",
            "63/63 [==============================] - 0s 4ms/step - loss: 0.4788 - accuracy: 0.7720 - val_loss: 0.4258 - val_accuracy: 0.8070\n",
            "Epoch 9/200\n",
            "63/63 [==============================] - 0s 4ms/step - loss: 0.4598 - accuracy: 0.7748 - val_loss: 0.4039 - val_accuracy: 0.8173\n",
            "Epoch 10/200\n",
            "63/63 [==============================] - 0s 3ms/step - loss: 0.4410 - accuracy: 0.7835 - val_loss: 0.3855 - val_accuracy: 0.8305\n",
            "Epoch 11/200\n",
            "63/63 [==============================] - 0s 4ms/step - loss: 0.4243 - accuracy: 0.7912 - val_loss: 0.3699 - val_accuracy: 0.8332\n",
            "Epoch 12/200\n",
            "63/63 [==============================] - 0s 4ms/step - loss: 0.4162 - accuracy: 0.7855 - val_loss: 0.3563 - val_accuracy: 0.8345\n",
            "Epoch 13/200\n",
            "63/63 [==============================] - 0s 4ms/step - loss: 0.3968 - accuracy: 0.8031 - val_loss: 0.3448 - val_accuracy: 0.8355\n",
            "Epoch 14/200\n",
            "63/63 [==============================] - 0s 4ms/step - loss: 0.3950 - accuracy: 0.7972 - val_loss: 0.3364 - val_accuracy: 0.8397\n",
            "Epoch 15/200\n",
            "63/63 [==============================] - 0s 4ms/step - loss: 0.3789 - accuracy: 0.8058 - val_loss: 0.3278 - val_accuracy: 0.8395\n",
            "Epoch 16/200\n",
            "63/63 [==============================] - 0s 4ms/step - loss: 0.3746 - accuracy: 0.8032 - val_loss: 0.3208 - val_accuracy: 0.8405\n",
            "Epoch 17/200\n",
            "63/63 [==============================] - 0s 4ms/step - loss: 0.3571 - accuracy: 0.8153 - val_loss: 0.3153 - val_accuracy: 0.8512\n",
            "Epoch 18/200\n",
            "63/63 [==============================] - 0s 4ms/step - loss: 0.3652 - accuracy: 0.8086 - val_loss: 0.3104 - val_accuracy: 0.8403\n",
            "Epoch 19/200\n",
            "63/63 [==============================] - 0s 4ms/step - loss: 0.3540 - accuracy: 0.8131 - val_loss: 0.3061 - val_accuracy: 0.8385\n",
            "Epoch 20/200\n",
            "63/63 [==============================] - 0s 4ms/step - loss: 0.3562 - accuracy: 0.8104 - val_loss: 0.3018 - val_accuracy: 0.8385\n",
            "Epoch 21/200\n",
            "63/63 [==============================] - 0s 4ms/step - loss: 0.3474 - accuracy: 0.8131 - val_loss: 0.2990 - val_accuracy: 0.8198\n",
            "Epoch 22/200\n",
            "63/63 [==============================] - 0s 4ms/step - loss: 0.3391 - accuracy: 0.8155 - val_loss: 0.2950 - val_accuracy: 0.8445\n",
            "Epoch 23/200\n",
            "63/63 [==============================] - 0s 4ms/step - loss: 0.3335 - accuracy: 0.8242 - val_loss: 0.2922 - val_accuracy: 0.8390\n",
            "Epoch 24/200\n",
            "63/63 [==============================] - 0s 4ms/step - loss: 0.3276 - accuracy: 0.8296 - val_loss: 0.2898 - val_accuracy: 0.8275\n",
            "Epoch 25/200\n",
            "63/63 [==============================] - 0s 4ms/step - loss: 0.3245 - accuracy: 0.8269 - val_loss: 0.2865 - val_accuracy: 0.8357\n",
            "Epoch 26/200\n",
            "63/63 [==============================] - 0s 3ms/step - loss: 0.3378 - accuracy: 0.8157 - val_loss: 0.2846 - val_accuracy: 0.8330\n",
            "Epoch 27/200\n",
            "63/63 [==============================] - 0s 4ms/step - loss: 0.3292 - accuracy: 0.8205 - val_loss: 0.2815 - val_accuracy: 0.8583\n",
            "Epoch 28/200\n",
            "63/63 [==============================] - 0s 4ms/step - loss: 0.3115 - accuracy: 0.8297 - val_loss: 0.2795 - val_accuracy: 0.8485\n",
            "Epoch 29/200\n",
            "63/63 [==============================] - 0s 4ms/step - loss: 0.3186 - accuracy: 0.8284 - val_loss: 0.2769 - val_accuracy: 0.8643\n",
            "Epoch 30/200\n",
            "63/63 [==============================] - 0s 4ms/step - loss: 0.3174 - accuracy: 0.8240 - val_loss: 0.2755 - val_accuracy: 0.8597\n",
            "Epoch 31/200\n",
            "63/63 [==============================] - 0s 4ms/step - loss: 0.3195 - accuracy: 0.8221 - val_loss: 0.2737 - val_accuracy: 0.8643\n",
            "Epoch 32/200\n",
            "63/63 [==============================] - 0s 4ms/step - loss: 0.3056 - accuracy: 0.8362 - val_loss: 0.2718 - val_accuracy: 0.8643\n",
            "Epoch 33/200\n",
            "63/63 [==============================] - 0s 3ms/step - loss: 0.3056 - accuracy: 0.8306 - val_loss: 0.2705 - val_accuracy: 0.8612\n",
            "Epoch 34/200\n",
            "63/63 [==============================] - 0s 3ms/step - loss: 0.3017 - accuracy: 0.8351 - val_loss: 0.2686 - val_accuracy: 0.8720\n",
            "Epoch 35/200\n",
            "63/63 [==============================] - 0s 3ms/step - loss: 0.3009 - accuracy: 0.8323 - val_loss: 0.2672 - val_accuracy: 0.8687\n",
            "Epoch 36/200\n",
            "63/63 [==============================] - 0s 4ms/step - loss: 0.3064 - accuracy: 0.8283 - val_loss: 0.2662 - val_accuracy: 0.8687\n",
            "Epoch 37/200\n",
            "63/63 [==============================] - 0s 4ms/step - loss: 0.2994 - accuracy: 0.8304 - val_loss: 0.2651 - val_accuracy: 0.8677\n",
            "Epoch 38/200\n",
            "63/63 [==============================] - 0s 4ms/step - loss: 0.3013 - accuracy: 0.8314 - val_loss: 0.2639 - val_accuracy: 0.8675\n",
            "Epoch 39/200\n",
            "63/63 [==============================] - 0s 4ms/step - loss: 0.3037 - accuracy: 0.8303 - val_loss: 0.2624 - val_accuracy: 0.8675\n",
            "Epoch 40/200\n",
            "63/63 [==============================] - 0s 4ms/step - loss: 0.3033 - accuracy: 0.8257 - val_loss: 0.2617 - val_accuracy: 0.8668\n",
            "Epoch 41/200\n",
            "63/63 [==============================] - 0s 4ms/step - loss: 0.3036 - accuracy: 0.8295 - val_loss: 0.2610 - val_accuracy: 0.8673\n",
            "Epoch 42/200\n",
            "63/63 [==============================] - 0s 4ms/step - loss: 0.2947 - accuracy: 0.8388 - val_loss: 0.2594 - val_accuracy: 0.8687\n",
            "Epoch 43/200\n",
            "63/63 [==============================] - 0s 4ms/step - loss: 0.2936 - accuracy: 0.8347 - val_loss: 0.2583 - val_accuracy: 0.8683\n",
            "Epoch 44/200\n",
            "63/63 [==============================] - 0s 4ms/step - loss: 0.2886 - accuracy: 0.8414 - val_loss: 0.2572 - val_accuracy: 0.8665\n",
            "Epoch 45/200\n",
            "63/63 [==============================] - 0s 4ms/step - loss: 0.2850 - accuracy: 0.8357 - val_loss: 0.2563 - val_accuracy: 0.8690\n",
            "Epoch 46/200\n",
            "63/63 [==============================] - 0s 4ms/step - loss: 0.2881 - accuracy: 0.8387 - val_loss: 0.2556 - val_accuracy: 0.8683\n",
            "Epoch 47/200\n",
            "63/63 [==============================] - 0s 4ms/step - loss: 0.2849 - accuracy: 0.8439 - val_loss: 0.2539 - val_accuracy: 0.8685\n",
            "Epoch 48/200\n",
            "63/63 [==============================] - 0s 4ms/step - loss: 0.2865 - accuracy: 0.8389 - val_loss: 0.2529 - val_accuracy: 0.8677\n",
            "Epoch 49/200\n",
            "63/63 [==============================] - 0s 4ms/step - loss: 0.2815 - accuracy: 0.8414 - val_loss: 0.2526 - val_accuracy: 0.8687\n",
            "Epoch 50/200\n",
            "63/63 [==============================] - 0s 4ms/step - loss: 0.2814 - accuracy: 0.8426 - val_loss: 0.2513 - val_accuracy: 0.8690\n",
            "Epoch 51/200\n",
            "63/63 [==============================] - 0s 4ms/step - loss: 0.2816 - accuracy: 0.8419 - val_loss: 0.2510 - val_accuracy: 0.8683\n",
            "Epoch 52/200\n",
            "63/63 [==============================] - 0s 4ms/step - loss: 0.2802 - accuracy: 0.8390 - val_loss: 0.2505 - val_accuracy: 0.8687\n",
            "Epoch 53/200\n",
            "63/63 [==============================] - 0s 4ms/step - loss: 0.2773 - accuracy: 0.8477 - val_loss: 0.2499 - val_accuracy: 0.8687\n",
            "Epoch 54/200\n",
            "63/63 [==============================] - 0s 4ms/step - loss: 0.2853 - accuracy: 0.8423 - val_loss: 0.2493 - val_accuracy: 0.8702\n",
            "Epoch 55/200\n",
            "63/63 [==============================] - 0s 4ms/step - loss: 0.2836 - accuracy: 0.8399 - val_loss: 0.2485 - val_accuracy: 0.8740\n",
            "Epoch 56/200\n",
            "63/63 [==============================] - 0s 3ms/step - loss: 0.2740 - accuracy: 0.8425 - val_loss: 0.2484 - val_accuracy: 0.8720\n",
            "Epoch 57/200\n",
            "63/63 [==============================] - 0s 4ms/step - loss: 0.2767 - accuracy: 0.8429 - val_loss: 0.2478 - val_accuracy: 0.8723\n",
            "Epoch 58/200\n",
            "63/63 [==============================] - 0s 4ms/step - loss: 0.2770 - accuracy: 0.8441 - val_loss: 0.2463 - val_accuracy: 0.8775\n",
            "Epoch 59/200\n",
            "63/63 [==============================] - 0s 3ms/step - loss: 0.2798 - accuracy: 0.8428 - val_loss: 0.2460 - val_accuracy: 0.8770\n",
            "Epoch 60/200\n",
            "63/63 [==============================] - 0s 4ms/step - loss: 0.2754 - accuracy: 0.8460 - val_loss: 0.2458 - val_accuracy: 0.8760\n",
            "Epoch 61/200\n",
            "63/63 [==============================] - 0s 4ms/step - loss: 0.2761 - accuracy: 0.8456 - val_loss: 0.2454 - val_accuracy: 0.8773\n",
            "Epoch 62/200\n",
            "63/63 [==============================] - 0s 4ms/step - loss: 0.2732 - accuracy: 0.8481 - val_loss: 0.2448 - val_accuracy: 0.8777\n",
            "Epoch 63/200\n",
            "63/63 [==============================] - 0s 4ms/step - loss: 0.2786 - accuracy: 0.8425 - val_loss: 0.2447 - val_accuracy: 0.8773\n",
            "Epoch 64/200\n",
            "63/63 [==============================] - 0s 3ms/step - loss: 0.2753 - accuracy: 0.8442 - val_loss: 0.2441 - val_accuracy: 0.8792\n",
            "Epoch 65/200\n",
            "63/63 [==============================] - 0s 3ms/step - loss: 0.2683 - accuracy: 0.8488 - val_loss: 0.2434 - val_accuracy: 0.8798\n",
            "Epoch 66/200\n",
            "63/63 [==============================] - 0s 4ms/step - loss: 0.2721 - accuracy: 0.8497 - val_loss: 0.2432 - val_accuracy: 0.8780\n",
            "Epoch 67/200\n",
            "63/63 [==============================] - 0s 4ms/step - loss: 0.2709 - accuracy: 0.8468 - val_loss: 0.2426 - val_accuracy: 0.8802\n",
            "Epoch 68/200\n",
            "63/63 [==============================] - 0s 4ms/step - loss: 0.2663 - accuracy: 0.8547 - val_loss: 0.2416 - val_accuracy: 0.8820\n",
            "Epoch 69/200\n",
            "63/63 [==============================] - 0s 4ms/step - loss: 0.2665 - accuracy: 0.8548 - val_loss: 0.2413 - val_accuracy: 0.8805\n",
            "Epoch 70/200\n",
            "63/63 [==============================] - 0s 4ms/step - loss: 0.2716 - accuracy: 0.8497 - val_loss: 0.2410 - val_accuracy: 0.8823\n",
            "Epoch 71/200\n",
            "63/63 [==============================] - 0s 4ms/step - loss: 0.2627 - accuracy: 0.8590 - val_loss: 0.2405 - val_accuracy: 0.8830\n",
            "Epoch 72/200\n",
            "63/63 [==============================] - 0s 4ms/step - loss: 0.2625 - accuracy: 0.8562 - val_loss: 0.2401 - val_accuracy: 0.8817\n",
            "Epoch 73/200\n",
            "63/63 [==============================] - 0s 4ms/step - loss: 0.2643 - accuracy: 0.8522 - val_loss: 0.2397 - val_accuracy: 0.8827\n",
            "Epoch 74/200\n",
            "63/63 [==============================] - 0s 4ms/step - loss: 0.2620 - accuracy: 0.8570 - val_loss: 0.2387 - val_accuracy: 0.8838\n",
            "Epoch 75/200\n",
            "63/63 [==============================] - 0s 4ms/step - loss: 0.2633 - accuracy: 0.8506 - val_loss: 0.2388 - val_accuracy: 0.8845\n",
            "Epoch 76/200\n",
            "63/63 [==============================] - 0s 3ms/step - loss: 0.2565 - accuracy: 0.8583 - val_loss: 0.2382 - val_accuracy: 0.8842\n",
            "Epoch 77/200\n",
            "63/63 [==============================] - 0s 3ms/step - loss: 0.2635 - accuracy: 0.8525 - val_loss: 0.2374 - val_accuracy: 0.8852\n",
            "Epoch 78/200\n",
            "63/63 [==============================] - 0s 3ms/step - loss: 0.2702 - accuracy: 0.8492 - val_loss: 0.2376 - val_accuracy: 0.8842\n",
            "Epoch 79/200\n",
            "63/63 [==============================] - 0s 4ms/step - loss: 0.2667 - accuracy: 0.8485 - val_loss: 0.2376 - val_accuracy: 0.8848\n",
            "Epoch 80/200\n",
            "63/63 [==============================] - 0s 4ms/step - loss: 0.2643 - accuracy: 0.8552 - val_loss: 0.2371 - val_accuracy: 0.8850\n",
            "Epoch 81/200\n",
            "63/63 [==============================] - 0s 4ms/step - loss: 0.2694 - accuracy: 0.8471 - val_loss: 0.2372 - val_accuracy: 0.8835\n",
            "Epoch 82/200\n",
            "63/63 [==============================] - 0s 4ms/step - loss: 0.2601 - accuracy: 0.8589 - val_loss: 0.2366 - val_accuracy: 0.8838\n",
            "Epoch 83/200\n",
            "63/63 [==============================] - 0s 4ms/step - loss: 0.2628 - accuracy: 0.8541 - val_loss: 0.2360 - val_accuracy: 0.8850\n",
            "Epoch 84/200\n",
            "63/63 [==============================] - 0s 4ms/step - loss: 0.2633 - accuracy: 0.8529 - val_loss: 0.2355 - val_accuracy: 0.8850\n",
            "Epoch 85/200\n",
            "63/63 [==============================] - 0s 3ms/step - loss: 0.2601 - accuracy: 0.8572 - val_loss: 0.2349 - val_accuracy: 0.8842\n",
            "Epoch 86/200\n",
            "63/63 [==============================] - 0s 4ms/step - loss: 0.2571 - accuracy: 0.8567 - val_loss: 0.2345 - val_accuracy: 0.8855\n",
            "Epoch 87/200\n",
            "63/63 [==============================] - 0s 4ms/step - loss: 0.2607 - accuracy: 0.8588 - val_loss: 0.2349 - val_accuracy: 0.8848\n",
            "Epoch 88/200\n",
            "63/63 [==============================] - 0s 4ms/step - loss: 0.2659 - accuracy: 0.8543 - val_loss: 0.2336 - val_accuracy: 0.8852\n",
            "Epoch 89/200\n",
            "63/63 [==============================] - 0s 4ms/step - loss: 0.2610 - accuracy: 0.8580 - val_loss: 0.2337 - val_accuracy: 0.8863\n",
            "Epoch 90/200\n",
            "63/63 [==============================] - 0s 3ms/step - loss: 0.2576 - accuracy: 0.8564 - val_loss: 0.2334 - val_accuracy: 0.8863\n",
            "Epoch 91/200\n",
            "63/63 [==============================] - 0s 4ms/step - loss: 0.2630 - accuracy: 0.8574 - val_loss: 0.2327 - val_accuracy: 0.8867\n",
            "Epoch 92/200\n",
            "63/63 [==============================] - 0s 4ms/step - loss: 0.2561 - accuracy: 0.8585 - val_loss: 0.2319 - val_accuracy: 0.8857\n",
            "Epoch 93/200\n",
            "63/63 [==============================] - 0s 4ms/step - loss: 0.2579 - accuracy: 0.8595 - val_loss: 0.2323 - val_accuracy: 0.8867\n",
            "Epoch 94/200\n",
            "63/63 [==============================] - 0s 4ms/step - loss: 0.2576 - accuracy: 0.8531 - val_loss: 0.2318 - val_accuracy: 0.8863\n",
            "Epoch 95/200\n",
            "63/63 [==============================] - 0s 4ms/step - loss: 0.2576 - accuracy: 0.8595 - val_loss: 0.2315 - val_accuracy: 0.8867\n",
            "Epoch 96/200\n",
            "63/63 [==============================] - 0s 4ms/step - loss: 0.2507 - accuracy: 0.8629 - val_loss: 0.2313 - val_accuracy: 0.8873\n",
            "Epoch 97/200\n",
            "63/63 [==============================] - 0s 3ms/step - loss: 0.2550 - accuracy: 0.8591 - val_loss: 0.2307 - val_accuracy: 0.8873\n",
            "Epoch 98/200\n",
            "63/63 [==============================] - 0s 3ms/step - loss: 0.2557 - accuracy: 0.8586 - val_loss: 0.2303 - val_accuracy: 0.8870\n",
            "Epoch 99/200\n",
            "63/63 [==============================] - 0s 4ms/step - loss: 0.2570 - accuracy: 0.8600 - val_loss: 0.2295 - val_accuracy: 0.8873\n",
            "Epoch 100/200\n",
            "63/63 [==============================] - 0s 4ms/step - loss: 0.2557 - accuracy: 0.8589 - val_loss: 0.2297 - val_accuracy: 0.8873\n",
            "Epoch 101/200\n",
            "63/63 [==============================] - 0s 4ms/step - loss: 0.2540 - accuracy: 0.8587 - val_loss: 0.2302 - val_accuracy: 0.8875\n",
            "Epoch 102/200\n",
            "63/63 [==============================] - 0s 4ms/step - loss: 0.2514 - accuracy: 0.8595 - val_loss: 0.2297 - val_accuracy: 0.8878\n",
            "Epoch 103/200\n",
            "63/63 [==============================] - 0s 4ms/step - loss: 0.2524 - accuracy: 0.8594 - val_loss: 0.2284 - val_accuracy: 0.8885\n",
            "Epoch 104/200\n",
            "63/63 [==============================] - 0s 4ms/step - loss: 0.2580 - accuracy: 0.8612 - val_loss: 0.2285 - val_accuracy: 0.8878\n",
            "Epoch 105/200\n",
            "63/63 [==============================] - 0s 4ms/step - loss: 0.2444 - accuracy: 0.8684 - val_loss: 0.2279 - val_accuracy: 0.8882\n",
            "Epoch 106/200\n",
            "63/63 [==============================] - 0s 4ms/step - loss: 0.2513 - accuracy: 0.8625 - val_loss: 0.2277 - val_accuracy: 0.8880\n",
            "Epoch 107/200\n",
            "63/63 [==============================] - 0s 4ms/step - loss: 0.2478 - accuracy: 0.8671 - val_loss: 0.2279 - val_accuracy: 0.8895\n",
            "Epoch 108/200\n",
            "63/63 [==============================] - 0s 3ms/step - loss: 0.2502 - accuracy: 0.8629 - val_loss: 0.2274 - val_accuracy: 0.8888\n",
            "Epoch 109/200\n",
            "63/63 [==============================] - 0s 4ms/step - loss: 0.2585 - accuracy: 0.8599 - val_loss: 0.2270 - val_accuracy: 0.8873\n",
            "Epoch 110/200\n",
            "63/63 [==============================] - 0s 3ms/step - loss: 0.2571 - accuracy: 0.8551 - val_loss: 0.2270 - val_accuracy: 0.8885\n",
            "Epoch 111/200\n",
            "63/63 [==============================] - 0s 4ms/step - loss: 0.2562 - accuracy: 0.8557 - val_loss: 0.2266 - val_accuracy: 0.8880\n",
            "Epoch 112/200\n",
            "63/63 [==============================] - 0s 4ms/step - loss: 0.2541 - accuracy: 0.8628 - val_loss: 0.2261 - val_accuracy: 0.8880\n",
            "Epoch 113/200\n",
            "63/63 [==============================] - 0s 4ms/step - loss: 0.2428 - accuracy: 0.8699 - val_loss: 0.2257 - val_accuracy: 0.8892\n",
            "Epoch 114/200\n",
            "63/63 [==============================] - 0s 4ms/step - loss: 0.2452 - accuracy: 0.8699 - val_loss: 0.2251 - val_accuracy: 0.8888\n",
            "Epoch 115/200\n",
            "63/63 [==============================] - 0s 4ms/step - loss: 0.2519 - accuracy: 0.8674 - val_loss: 0.2251 - val_accuracy: 0.8885\n",
            "Epoch 116/200\n",
            "63/63 [==============================] - 0s 3ms/step - loss: 0.2441 - accuracy: 0.8692 - val_loss: 0.2242 - val_accuracy: 0.8900\n",
            "Epoch 117/200\n",
            "63/63 [==============================] - 0s 3ms/step - loss: 0.2462 - accuracy: 0.8628 - val_loss: 0.2240 - val_accuracy: 0.8892\n",
            "Epoch 118/200\n",
            "63/63 [==============================] - 0s 4ms/step - loss: 0.2481 - accuracy: 0.8675 - val_loss: 0.2235 - val_accuracy: 0.8888\n",
            "Epoch 119/200\n",
            "63/63 [==============================] - 0s 3ms/step - loss: 0.2502 - accuracy: 0.8655 - val_loss: 0.2232 - val_accuracy: 0.8882\n",
            "Epoch 120/200\n",
            "63/63 [==============================] - 0s 4ms/step - loss: 0.2460 - accuracy: 0.8680 - val_loss: 0.2227 - val_accuracy: 0.8898\n",
            "Epoch 121/200\n",
            "63/63 [==============================] - 0s 4ms/step - loss: 0.2496 - accuracy: 0.8657 - val_loss: 0.2231 - val_accuracy: 0.8890\n",
            "Epoch 122/200\n",
            "63/63 [==============================] - 0s 4ms/step - loss: 0.2466 - accuracy: 0.8667 - val_loss: 0.2227 - val_accuracy: 0.8890\n",
            "Epoch 123/200\n",
            "63/63 [==============================] - 0s 4ms/step - loss: 0.2478 - accuracy: 0.8669 - val_loss: 0.2227 - val_accuracy: 0.8880\n",
            "Epoch 124/200\n",
            "63/63 [==============================] - 0s 4ms/step - loss: 0.2475 - accuracy: 0.8658 - val_loss: 0.2221 - val_accuracy: 0.8890\n",
            "Epoch 125/200\n",
            "63/63 [==============================] - 0s 4ms/step - loss: 0.2466 - accuracy: 0.8654 - val_loss: 0.2221 - val_accuracy: 0.8895\n",
            "Epoch 126/200\n",
            "63/63 [==============================] - 0s 4ms/step - loss: 0.2491 - accuracy: 0.8688 - val_loss: 0.2218 - val_accuracy: 0.8895\n",
            "Epoch 127/200\n",
            "63/63 [==============================] - 0s 4ms/step - loss: 0.2413 - accuracy: 0.8693 - val_loss: 0.2214 - val_accuracy: 0.8885\n",
            "Epoch 128/200\n",
            "63/63 [==============================] - 0s 4ms/step - loss: 0.2538 - accuracy: 0.8634 - val_loss: 0.2210 - val_accuracy: 0.8892\n",
            "Epoch 129/200\n",
            "63/63 [==============================] - 0s 4ms/step - loss: 0.2482 - accuracy: 0.8641 - val_loss: 0.2203 - val_accuracy: 0.8957\n",
            "Epoch 130/200\n",
            "63/63 [==============================] - 0s 3ms/step - loss: 0.2464 - accuracy: 0.8673 - val_loss: 0.2205 - val_accuracy: 0.8913\n",
            "Epoch 131/200\n",
            "63/63 [==============================] - 0s 3ms/step - loss: 0.2461 - accuracy: 0.8677 - val_loss: 0.2201 - val_accuracy: 0.8917\n",
            "Epoch 132/200\n",
            "63/63 [==============================] - 0s 4ms/step - loss: 0.2436 - accuracy: 0.8665 - val_loss: 0.2197 - val_accuracy: 0.8923\n",
            "Epoch 133/200\n",
            "63/63 [==============================] - 0s 4ms/step - loss: 0.2460 - accuracy: 0.8679 - val_loss: 0.2189 - val_accuracy: 0.8955\n",
            "Epoch 134/200\n",
            "63/63 [==============================] - 0s 4ms/step - loss: 0.2403 - accuracy: 0.8747 - val_loss: 0.2194 - val_accuracy: 0.8898\n",
            "Epoch 135/200\n",
            "63/63 [==============================] - 0s 4ms/step - loss: 0.2426 - accuracy: 0.8693 - val_loss: 0.2180 - val_accuracy: 0.8938\n",
            "Epoch 136/200\n",
            "63/63 [==============================] - 0s 3ms/step - loss: 0.2441 - accuracy: 0.8655 - val_loss: 0.2184 - val_accuracy: 0.8910\n",
            "Epoch 137/200\n",
            "63/63 [==============================] - 0s 4ms/step - loss: 0.2410 - accuracy: 0.8726 - val_loss: 0.2175 - val_accuracy: 0.8957\n",
            "Epoch 138/200\n",
            "63/63 [==============================] - 0s 3ms/step - loss: 0.2500 - accuracy: 0.8676 - val_loss: 0.2177 - val_accuracy: 0.8923\n",
            "Epoch 139/200\n",
            "63/63 [==============================] - 0s 3ms/step - loss: 0.2472 - accuracy: 0.8688 - val_loss: 0.2166 - val_accuracy: 0.8963\n",
            "Epoch 140/200\n",
            "63/63 [==============================] - 0s 4ms/step - loss: 0.2411 - accuracy: 0.8700 - val_loss: 0.2161 - val_accuracy: 0.8960\n",
            "Epoch 141/200\n",
            "63/63 [==============================] - 0s 3ms/step - loss: 0.2420 - accuracy: 0.8713 - val_loss: 0.2164 - val_accuracy: 0.8967\n",
            "Epoch 142/200\n",
            "63/63 [==============================] - 0s 4ms/step - loss: 0.2385 - accuracy: 0.8741 - val_loss: 0.2158 - val_accuracy: 0.8967\n",
            "Epoch 143/200\n",
            "63/63 [==============================] - 0s 4ms/step - loss: 0.2448 - accuracy: 0.8648 - val_loss: 0.2158 - val_accuracy: 0.8975\n",
            "Epoch 144/200\n",
            "63/63 [==============================] - 0s 4ms/step - loss: 0.2444 - accuracy: 0.8668 - val_loss: 0.2156 - val_accuracy: 0.8970\n",
            "Epoch 145/200\n",
            "63/63 [==============================] - 0s 4ms/step - loss: 0.2422 - accuracy: 0.8745 - val_loss: 0.2156 - val_accuracy: 0.8967\n",
            "Epoch 146/200\n",
            "63/63 [==============================] - 0s 4ms/step - loss: 0.2445 - accuracy: 0.8667 - val_loss: 0.2148 - val_accuracy: 0.8988\n",
            "Epoch 147/200\n",
            "63/63 [==============================] - 0s 4ms/step - loss: 0.2447 - accuracy: 0.8644 - val_loss: 0.2149 - val_accuracy: 0.8970\n",
            "Epoch 148/200\n",
            "63/63 [==============================] - 0s 4ms/step - loss: 0.2433 - accuracy: 0.8699 - val_loss: 0.2148 - val_accuracy: 0.8980\n",
            "Epoch 149/200\n",
            "63/63 [==============================] - 0s 4ms/step - loss: 0.2426 - accuracy: 0.8666 - val_loss: 0.2154 - val_accuracy: 0.8978\n",
            "Epoch 150/200\n",
            "63/63 [==============================] - 0s 3ms/step - loss: 0.2438 - accuracy: 0.8679 - val_loss: 0.2147 - val_accuracy: 0.9000\n",
            "Epoch 151/200\n",
            "63/63 [==============================] - 0s 4ms/step - loss: 0.2399 - accuracy: 0.8724 - val_loss: 0.2144 - val_accuracy: 0.8992\n",
            "Epoch 152/200\n",
            "63/63 [==============================] - 0s 4ms/step - loss: 0.2392 - accuracy: 0.8702 - val_loss: 0.2141 - val_accuracy: 0.8988\n",
            "Epoch 153/200\n",
            "63/63 [==============================] - 0s 4ms/step - loss: 0.2339 - accuracy: 0.8759 - val_loss: 0.2143 - val_accuracy: 0.8980\n",
            "Epoch 154/200\n",
            "63/63 [==============================] - 0s 4ms/step - loss: 0.2386 - accuracy: 0.8740 - val_loss: 0.2138 - val_accuracy: 0.8980\n",
            "Epoch 155/200\n",
            "63/63 [==============================] - 0s 4ms/step - loss: 0.2365 - accuracy: 0.8725 - val_loss: 0.2130 - val_accuracy: 0.8995\n",
            "Epoch 156/200\n",
            "63/63 [==============================] - 0s 4ms/step - loss: 0.2369 - accuracy: 0.8694 - val_loss: 0.2128 - val_accuracy: 0.8988\n",
            "Epoch 157/200\n",
            "63/63 [==============================] - 0s 3ms/step - loss: 0.2423 - accuracy: 0.8731 - val_loss: 0.2135 - val_accuracy: 0.8978\n",
            "Epoch 158/200\n",
            "63/63 [==============================] - 0s 4ms/step - loss: 0.2389 - accuracy: 0.8728 - val_loss: 0.2128 - val_accuracy: 0.8992\n",
            "Epoch 159/200\n",
            "63/63 [==============================] - 0s 4ms/step - loss: 0.2365 - accuracy: 0.8747 - val_loss: 0.2124 - val_accuracy: 0.8988\n",
            "Epoch 160/200\n",
            "63/63 [==============================] - 0s 4ms/step - loss: 0.2357 - accuracy: 0.8757 - val_loss: 0.2125 - val_accuracy: 0.8980\n",
            "Epoch 161/200\n",
            "63/63 [==============================] - 0s 4ms/step - loss: 0.2330 - accuracy: 0.8770 - val_loss: 0.2122 - val_accuracy: 0.8985\n",
            "Epoch 162/200\n",
            "63/63 [==============================] - 0s 4ms/step - loss: 0.2396 - accuracy: 0.8709 - val_loss: 0.2122 - val_accuracy: 0.8988\n",
            "Epoch 163/200\n",
            "63/63 [==============================] - 0s 4ms/step - loss: 0.2329 - accuracy: 0.8712 - val_loss: 0.2121 - val_accuracy: 0.8985\n",
            "Epoch 164/200\n",
            "63/63 [==============================] - 0s 4ms/step - loss: 0.2324 - accuracy: 0.8780 - val_loss: 0.2113 - val_accuracy: 0.8978\n",
            "Epoch 165/200\n",
            "63/63 [==============================] - 0s 4ms/step - loss: 0.2381 - accuracy: 0.8722 - val_loss: 0.2107 - val_accuracy: 0.8985\n",
            "Epoch 166/200\n",
            "63/63 [==============================] - 0s 4ms/step - loss: 0.2324 - accuracy: 0.8757 - val_loss: 0.2105 - val_accuracy: 0.8995\n",
            "Epoch 167/200\n",
            "63/63 [==============================] - 0s 4ms/step - loss: 0.2339 - accuracy: 0.8767 - val_loss: 0.2103 - val_accuracy: 0.9000\n",
            "Epoch 168/200\n",
            "63/63 [==============================] - 0s 4ms/step - loss: 0.2399 - accuracy: 0.8677 - val_loss: 0.2107 - val_accuracy: 0.8980\n",
            "Epoch 169/200\n",
            "63/63 [==============================] - 0s 4ms/step - loss: 0.2377 - accuracy: 0.8737 - val_loss: 0.2102 - val_accuracy: 0.8985\n",
            "Epoch 170/200\n",
            "63/63 [==============================] - 0s 4ms/step - loss: 0.2355 - accuracy: 0.8751 - val_loss: 0.2097 - val_accuracy: 0.8980\n",
            "Epoch 171/200\n",
            "63/63 [==============================] - 0s 4ms/step - loss: 0.2289 - accuracy: 0.8775 - val_loss: 0.2097 - val_accuracy: 0.8978\n",
            "Epoch 172/200\n",
            "63/63 [==============================] - 0s 4ms/step - loss: 0.2300 - accuracy: 0.8797 - val_loss: 0.2088 - val_accuracy: 0.9003\n",
            "Epoch 173/200\n",
            "63/63 [==============================] - 0s 4ms/step - loss: 0.2322 - accuracy: 0.8733 - val_loss: 0.2085 - val_accuracy: 0.9022\n",
            "Epoch 174/200\n",
            "63/63 [==============================] - 0s 4ms/step - loss: 0.2346 - accuracy: 0.8703 - val_loss: 0.2091 - val_accuracy: 0.8997\n",
            "Epoch 175/200\n",
            "63/63 [==============================] - 0s 3ms/step - loss: 0.2314 - accuracy: 0.8777 - val_loss: 0.2088 - val_accuracy: 0.8985\n",
            "Epoch 176/200\n",
            "63/63 [==============================] - 0s 4ms/step - loss: 0.2311 - accuracy: 0.8764 - val_loss: 0.2082 - val_accuracy: 0.9020\n",
            "Epoch 177/200\n",
            "63/63 [==============================] - 0s 4ms/step - loss: 0.2314 - accuracy: 0.8806 - val_loss: 0.2077 - val_accuracy: 0.9018\n",
            "Epoch 178/200\n",
            "63/63 [==============================] - 0s 4ms/step - loss: 0.2324 - accuracy: 0.8769 - val_loss: 0.2071 - val_accuracy: 0.9015\n",
            "Epoch 179/200\n",
            "63/63 [==============================] - 0s 3ms/step - loss: 0.2349 - accuracy: 0.8742 - val_loss: 0.2075 - val_accuracy: 0.9020\n",
            "Epoch 180/200\n",
            "63/63 [==============================] - 0s 4ms/step - loss: 0.2359 - accuracy: 0.8742 - val_loss: 0.2073 - val_accuracy: 0.9025\n",
            "Epoch 181/200\n",
            "63/63 [==============================] - 0s 3ms/step - loss: 0.2336 - accuracy: 0.8785 - val_loss: 0.2071 - val_accuracy: 0.9025\n",
            "Epoch 182/200\n",
            "63/63 [==============================] - 0s 4ms/step - loss: 0.2294 - accuracy: 0.8759 - val_loss: 0.2068 - val_accuracy: 0.9028\n",
            "Epoch 183/200\n",
            "63/63 [==============================] - 0s 4ms/step - loss: 0.2377 - accuracy: 0.8760 - val_loss: 0.2069 - val_accuracy: 0.9025\n",
            "Epoch 184/200\n",
            "63/63 [==============================] - 0s 4ms/step - loss: 0.2336 - accuracy: 0.8772 - val_loss: 0.2069 - val_accuracy: 0.9015\n",
            "Epoch 185/200\n",
            "63/63 [==============================] - 0s 4ms/step - loss: 0.2356 - accuracy: 0.8741 - val_loss: 0.2073 - val_accuracy: 0.8995\n",
            "Epoch 186/200\n",
            "63/63 [==============================] - 0s 4ms/step - loss: 0.2356 - accuracy: 0.8776 - val_loss: 0.2062 - val_accuracy: 0.9035\n",
            "Epoch 187/200\n",
            "63/63 [==============================] - 0s 4ms/step - loss: 0.2279 - accuracy: 0.8795 - val_loss: 0.2057 - val_accuracy: 0.9047\n",
            "Epoch 188/200\n",
            "63/63 [==============================] - 0s 4ms/step - loss: 0.2312 - accuracy: 0.8810 - val_loss: 0.2060 - val_accuracy: 0.9013\n",
            "Epoch 189/200\n",
            "63/63 [==============================] - 0s 4ms/step - loss: 0.2314 - accuracy: 0.8811 - val_loss: 0.2052 - val_accuracy: 0.9047\n",
            "Epoch 190/200\n",
            "63/63 [==============================] - 0s 4ms/step - loss: 0.2371 - accuracy: 0.8772 - val_loss: 0.2064 - val_accuracy: 0.9000\n",
            "Epoch 191/200\n",
            "63/63 [==============================] - 0s 4ms/step - loss: 0.2300 - accuracy: 0.8812 - val_loss: 0.2054 - val_accuracy: 0.9030\n",
            "Epoch 192/200\n",
            "63/63 [==============================] - 0s 4ms/step - loss: 0.2338 - accuracy: 0.8708 - val_loss: 0.2061 - val_accuracy: 0.9015\n",
            "Epoch 193/200\n",
            "63/63 [==============================] - 0s 4ms/step - loss: 0.2310 - accuracy: 0.8740 - val_loss: 0.2054 - val_accuracy: 0.9032\n",
            "Epoch 194/200\n",
            "63/63 [==============================] - 0s 4ms/step - loss: 0.2285 - accuracy: 0.8794 - val_loss: 0.2058 - val_accuracy: 0.8995\n",
            "Epoch 195/200\n",
            "63/63 [==============================] - 0s 4ms/step - loss: 0.2302 - accuracy: 0.8798 - val_loss: 0.2046 - val_accuracy: 0.9030\n",
            "Epoch 196/200\n",
            "63/63 [==============================] - 0s 4ms/step - loss: 0.2326 - accuracy: 0.8766 - val_loss: 0.2048 - val_accuracy: 0.9020\n",
            "Epoch 197/200\n",
            "63/63 [==============================] - 0s 3ms/step - loss: 0.2317 - accuracy: 0.8798 - val_loss: 0.2038 - val_accuracy: 0.9030\n",
            "Epoch 198/200\n",
            "63/63 [==============================] - 0s 4ms/step - loss: 0.2350 - accuracy: 0.8779 - val_loss: 0.2046 - val_accuracy: 0.9030\n",
            "Epoch 199/200\n",
            "63/63 [==============================] - 0s 4ms/step - loss: 0.2303 - accuracy: 0.8745 - val_loss: 0.2041 - val_accuracy: 0.9047\n",
            "Epoch 200/200\n",
            "63/63 [==============================] - 0s 4ms/step - loss: 0.2258 - accuracy: 0.8804 - val_loss: 0.2036 - val_accuracy: 0.9038\n"
          ],
          "name": "stdout"
        },
        {
          "output_type": "display_data",
          "data": {
            "image/png": "[encoded data removed]",
            "text/plain": [
              "<Figure size 432x288 with 1 Axes>"
            ]
          },
          "metadata": {
            "tags": [],
            "needs_background": "light"
          }
        },
        {
          "output_type": "display_data",
          "data": {
            "image/png": "[encoded data removed]",
            "text/plain": [
              "<Figure size 432x288 with 1 Axes>"
            ]
          },
          "metadata": {
            "tags": [],
            "needs_background": "light"
          }
        }
      ]
    },
    {
      "cell_type": "code",
      "metadata": {
        "id": "sGGH9PaAJfld",
        "colab": {
          "base_uri": "https://localhost:8080/"
        },
        "outputId": "55502e9c-2602-464f-9928-bf4ce87faff0"
      },
      "source": [
        "y_hat=model.predict(x_test_norm)\n",
        "y_pred=tf.argmax(y_hat,1)\n",
        "print(classification_report(tf.argmax(y_test,1),y_pred))\n",
        "cm1=confusion_matrix(tf.argmax(y_test,1),y_pred)\n",
        "sensitivity1 = cm1[0,0]/(cm1[0,0]+cm1[0,1])\n",
        "print('Sensitivity : ', sensitivity1 )\n",
        "specificity1 = cm1[1,1]/(cm1[1,0]+cm1[1,1])\n",
        "print('Specificity : ', specificity1)\n",
        "precision_score(tf.argmax(y_test,1),y_pred),recall_score(tf.argmax(y_test,1),y_pred),f1_score(tf.argmax(y_test,1),y_pred)"
      ],
      "execution_count": null,
      "outputs": [
        {
          "output_type": "stream",
          "text": [
            "              precision    recall  f1-score   support\n",
            "\n",
            "           0       0.85      0.95      0.90      9019\n",
            "           1       0.95      0.86      0.91     10981\n",
            "\n",
            "    accuracy                           0.90     20000\n",
            "   macro avg       0.90      0.91      0.90     20000\n",
            "weighted avg       0.91      0.90      0.90     20000\n",
            "\n",
            "Sensitivity :  0.9499944561481317\n",
            "Specificity :  0.861852290319643\n"
          ],
          "name": "stdout"
        },
        {
          "output_type": "execute_result",
          "data": {
            "text/plain": [
              "(0.9545133635905194, 0.861852290319643, 0.9058192955589587)"
            ]
          },
          "metadata": {
            "tags": []
          },
          "execution_count": 16
        }
      ]
    },
    {
      "cell_type": "markdown",
      "metadata": {
        "id": "hrmtJCfEbSOP"
      },
      "source": [
        "# Mean teacher"
      ]
    },
    {
      "cell_type": "code",
      "metadata": {
        "id": "J-1PKPqLbTuE"
      },
      "source": [
        "def MeanTeacher(x_train, y_train,x_test, y_test, batch_size,epochs,alpha) :\n",
        "    # preparing the training dataset\n",
        "    train_dataset = tf.data.Dataset.from_tensor_slices ( (x_train, y_train) )\n",
        "    train_dataset = train_dataset.shuffle ( buffer_size=1024 ).batch ( batch_size )\n",
        "    \n",
        "    # declaring optimiser\n",
        "    optimizer = tf.keras.optimizers.Adam (learning_rate=0.0001 )  # trying changing learning rate , sometimes it gives good result\n",
        "    student = seqmodel()\n",
        "    teacher = seqmodel()\n",
        "    train_metrics = tf.keras.metrics.BinaryAccuracy ( name='Binary_Accuracy' )\n",
        "    val_metrics = tf.keras.metrics.BinaryAccuracy ( name='val_Accuracy' )\n",
        "    progbar = tf.keras.utils.Progbar ( len ( x_train ), stateful_metrics=['Accuracy', 'Loss','val_acc'] )\n",
        "    for epoch in range ( 1, epochs + 1 ) :\n",
        "        tf.print ( '\\nepoch %d' % (epoch,) )\n",
        "        for step, (x_batch_train,  y_batch_train) in enumerate ( train_dataset ) :\n",
        "            with tf.GradientTape () as tape :\n",
        "                overall_cost = Overall_Cost ( x_batch_train, y_batch_train, \n",
        "                                              student, teacher,0.5 )\n",
        "            grads = tape.gradient ( overall_cost, student.trainable_weights )\n",
        "            optimizer.apply_gradients (\n",
        "                (grad, var) for (grad, var) in zip ( grads, student.trainable_weights ) if grad is not None )\n",
        "            teacher = EMA ( student, teacher, alpha=alpha )\n",
        "            logits_t = teacher( x_train[:200] )\n",
        "            \n",
        "            train_acc = train_metrics ( tf.argmax(y_train[:200],1),tf.argmax(logits_t,1)  )\n",
        "            progbar.add ( batch_size, values=[('Accuracy', train_acc), ('Loss', overall_cost)] )\n",
        "\n",
        "            y_p = teacher(x_test_norm[:200])\n",
        "            val_acc = val_metrics(tf.argmax(y_test[:200],1), tf.argmax(y_p,1))\n",
        "            progbar.update(step,values=[('val_acc',val_acc)])\n",
        "    \n",
        "\n",
        "    tf.keras.backend.clear_session ()\n",
        "    return student, teacher"
      ],
      "execution_count": null,
      "outputs": []
    },
    {
      "cell_type": "code",
      "metadata": {
        "id": "r75v3lVZdNnq"
      },
      "source": [
        "student,teacher=MeanTeacher(x_train_norm,y_train,x_test_norm,y_test,128,200,0.99)"
      ],
      "execution_count": null,
      "outputs": []
    },
    {
      "cell_type": "code",
      "metadata": {
        "colab": {
          "base_uri": "https://localhost:8080/"
        },
        "id": "pIeozg9hc54I",
        "outputId": "93cda63c-3578-4c70-a87c-907b11eec699"
      },
      "source": [
        "y_hat=student.predict(x_test_norm)\n",
        "y_pred=tf.argmax(y_hat,1)\n",
        "\n",
        "cm1=confusion_matrix(tf.argmax(y_test,1),y_pred)\n",
        "sensitivity1 = cm1[0,0]/(cm1[0,0]+cm1[0,1])\n",
        "print('Sensitivity : ', sensitivity1 )\n",
        "specificity1 = cm1[1,1]/(cm1[1,0]+cm1[1,1])\n",
        "print('Specificity : ', specificity1)\n",
        "precision_score(tf.argmax(y_test,1),y_pred),recall_score(tf.argmax(y_test,1),y_pred),f1_score(tf.argmax(y_test,1),y_pred)"
      ],
      "execution_count": null,
      "outputs": [
        {
          "output_type": "stream",
          "text": [
            "Sensitivity :  0.9587537421000111\n",
            "Specificity :  0.9495492213823877\n"
          ],
          "name": "stdout"
        },
        {
          "output_type": "execute_result",
          "data": {
            "text/plain": [
              "(0.9655523659598111, 0.9495492213823877, 0.9574839302112029)"
            ]
          },
          "metadata": {
            "tags": []
          },
          "execution_count": 22
        }
      ]
    },
    {
      "cell_type": "code",
      "metadata": {
        "colab": {
          "base_uri": "https://localhost:8080/"
        },
        "id": "7ujou0UvdGoj",
        "outputId": "4a8bc063-4df9-452b-bab4-c62abd45b286"
      },
      "source": [
        "y_hat=teacher.predict(x_test_norm)\n",
        "y_pred=tf.argmax(y_hat,1)\n",
        "\n",
        "cm1=confusion_matrix(tf.argmax(y_test,1),y_pred)\n",
        "sensitivity1 = cm1[0,0]/(cm1[0,0]+cm1[0,1])\n",
        "print('Sensitivity : ', sensitivity1 )\n",
        "specificity1 = cm1[1,1]/(cm1[1,0]+cm1[1,1])\n",
        "print('Specificity : ', specificity1)\n",
        "precision_score(tf.argmax(y_test,1),y_pred),recall_score(tf.argmax(y_test,1),y_pred),f1_score(tf.argmax(y_test,1),y_pred)"
      ],
      "execution_count": null,
      "outputs": [
        {
          "output_type": "stream",
          "text": [
            "Sensitivity :  0.9454484976161437\n",
            "Specificity :  0.9589290592842182\n"
          ],
          "name": "stdout"
        },
        {
          "output_type": "execute_result",
          "data": {
            "text/plain": [
              "(0.9553620032661949, 0.9589290592842182, 0.9571422078807436)"
            ]
          },
          "metadata": {
            "tags": []
          },
          "execution_count": 23
        }
      ]
    },
    {
      "cell_type": "code",
      "metadata": {
        "id": "HMtQY37pjVg9"
      },
      "source": [
        ""
      ],
      "execution_count": null,
      "outputs": []
    }
  ]
}